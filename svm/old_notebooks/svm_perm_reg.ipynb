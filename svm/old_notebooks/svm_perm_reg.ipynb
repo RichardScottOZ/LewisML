{
 "cells": [
  {
   "cell_type": "code",
   "execution_count": null,
   "source": [],
   "outputs": [],
   "metadata": {}
  }
 ],
 "metadata": {
  "orig_nbformat": 4,
  "language_info": {
   "name": "python",
   "version": "3.8.11"
  },
  "kernelspec": {
   "name": "python3",
   "display_name": "Python 3.8.11 64-bit ('lewisml': conda)"
  },
  "interpreter": {
   "hash": "8fcd402d42f6414c5061a067b50084f88d8d465ff098bd6ca5989e2772ee4358"
  }
 },
 "nbformat": 4,
 "nbformat_minor": 2
}